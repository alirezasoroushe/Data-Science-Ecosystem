{
 "cells": [
  {
   "cell_type": "markdown",
   "id": "b9d25d60-2772-4585-ae56-226d0f21a593",
   "metadata": {},
   "source": [
    "# Data Science Tools and Ecosystems"
   ]
  },
  {
   "cell_type": "markdown",
   "id": "72d53365-34d8-4fa4-9062-2253f237ea00",
   "metadata": {},
   "source": [
    "## In this notebook, Data Science Tools and Ecosystem are summarized."
   ]
  },
  {
   "cell_type": "markdown",
   "id": "2d6ea0ea-b9ce-4a2a-a62f-3e878a649822",
   "metadata": {},
   "source": [
    "### Some of the popular languages that Data Scientists use are:\n",
    "Ordered list:\n",
    "1. Python\n",
    "2. R\n",
    "3. Julia"
   ]
  },
  {
   "cell_type": "markdown",
   "id": "ba84638d-77e0-40e4-8b63-729a47f643f7",
   "metadata": {},
   "source": [
    "### Some of the commonly used libraries used by Data Scientists include:\n",
    "Ordered list:\n",
    "1. Numpy\n",
    "2. Pandas\n",
    "3. Matplotlib"
   ]
  },
  {
   "cell_type": "markdown",
   "id": "3521428d-4e36-4cf5-8fe5-ddb5b1b9d7ab",
   "metadata": {},
   "source": [
    "|Data Science Tools|\n",
    "|------------------|\n",
    "|JupyterLab|\n",
    "|googleCilab|\n",
    "|JupyterLite|\n"
   ]
  },
  {
   "cell_type": "markdown",
   "id": "5f12ff1e-2d8e-432d-9c7a-a40269db6219",
   "metadata": {},
   "source": [
    "### Below are a few examples of evaluating arithmetic expressions in Python"
   ]
  },
  {
   "cell_type": "code",
   "execution_count": 1,
   "id": "8dd29475-185a-4276-af9e-cbf2f9516943",
   "metadata": {},
   "outputs": [
    {
     "data": {
      "text/plain": [
       "17"
      ]
     },
     "execution_count": 1,
     "metadata": {},
     "output_type": "execute_result"
    }
   ],
   "source": [
    "# This a simple arithmetic expression to mutiply then add integers\n",
    "\n",
    "(3*4)+5"
   ]
  },
  {
   "cell_type": "code",
   "execution_count": 2,
   "id": "497c7d82-88b0-424e-b940-b0dbdef01380",
   "metadata": {},
   "outputs": [
    {
     "data": {
      "text/plain": [
       "3.3333333333333335"
      ]
     },
     "execution_count": 2,
     "metadata": {},
     "output_type": "execute_result"
    }
   ],
   "source": [
    "#This will convert 200 minutes to hours by diving by 60\n",
    "\n",
    "200/60"
   ]
  },
  {
   "cell_type": "markdown",
   "id": "34c50e24-f877-4638-a8d0-0febd972d2cf",
   "metadata": {},
   "source": [
    "**Objectives:**\n",
    "\n",
    "unordered list:\n",
    "- List of popular languages for Data Science\n",
    "- List of the commonly used libraries used by Data Scientists\n",
    "- List of some development environment open source tools used in data science\n",
    "- A few examples of evaluating arithmetic expressions in Python\n",
    "- Simple arithmetic expression to mutiply then add integers"
   ]
  },
  {
   "cell_type": "markdown",
   "id": "d935ef37-424e-416d-86fd-01eda5c09447",
   "metadata": {},
   "source": [
    "## Author\n",
    "Alireza Soroushe"
   ]
  },
  {
   "cell_type": "code",
   "execution_count": null,
   "id": "7e95acb4-2fd8-4a2e-8934-507e5bbfc233",
   "metadata": {},
   "outputs": [],
   "source": []
  }
 ],
 "metadata": {
  "kernelspec": {
   "display_name": "Python 3 (ipykernel)",
   "language": "python",
   "name": "python3"
  },
  "language_info": {
   "codemirror_mode": {
    "name": "ipython",
    "version": 3
   },
   "file_extension": ".py",
   "mimetype": "text/x-python",
   "name": "python",
   "nbconvert_exporter": "python",
   "pygments_lexer": "ipython3",
   "version": "3.11.8"
  }
 },
 "nbformat": 4,
 "nbformat_minor": 5
}
